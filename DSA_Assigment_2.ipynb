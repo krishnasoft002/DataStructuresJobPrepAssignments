{
 "cells": [
  {
   "cell_type": "code",
   "execution_count": null,
   "id": "a355a101",
   "metadata": {},
   "outputs": [],
   "source": [
    "#Explain the sorting algorithms with examples."
   ]
  },
  {
   "cell_type": "code",
   "execution_count": null,
   "id": "9bf1034a",
   "metadata": {},
   "outputs": [],
   "source": [
    "\n",
    "Sorting is the process of arranging the elements of an array so that they can be placed either in ascending or descending order. For example, consider an array A = {A1, A2, A3, A4, ?? An }, the array is called to be in ascending order if element of A are arranged like A1 > A2 > A3 > A4 > A5 > ? > An .\n",
    "\n",
    "Consider an array;\n",
    "\n",
    "int A[10] = { 5, 4, 10, 2, 30, 45, 34, 14, 18, 9 )\n",
    "\n",
    "The Array sorted in ascending order will be given as;\n",
    "\n",
    "A[] = { 2, 4, 5, 9, 10, 14, 18, 30, 34, 45 }\n",
    "\n",
    "There are many techniques by using which, sorting can be performed. \n",
    "\n",
    "The following are the sorting algorthims\n",
    "\n",
    "\n",
    "Bubble Sort\n",
    "\n",
    "It is the simplest sort method which performs sorting by repeatedly moving the largest element to the highest index of the array. It comprises of comparing each element to its adjacent element and replace them accordingly.\n",
    "\n",
    "Bucket sort\n",
    "\n",
    "Bucket sort is also known as bin sort. It works by distributing the element into the array also called buckets. In this sorting algorithms, Buckets are sorted individually by using different sorting algorithm.\n",
    "\n",
    "\n",
    "Comb Sort\n",
    "Comb Sort is the advanced form of Bubble Sort. Bubble Sort compares all the adjacent values while comb sort removes all the turtle values or small values near the end of the list.\n",
    "\n",
    "Counting Sort:\n",
    "It is a sorting technique based on the keys i.e. objects are collected according to keys which are small integers. Counting sort calculates the number of occurrence of objects and stores its key values. New array is formed by adding previous key elements and assigning to objects\n",
    "\n",
    "Heap Sort:\n",
    "In the heap sort, Min heap or max heap is maintained from the array elements deending upon the choice and the elements are sorted by deleting the root element of the heap.\n",
    "\n",
    "insertion sort\n",
    "\n",
    "As the name suggests, insertion sort inserts each element of the array to its proper place. It is a very simple sort method which is used to arrange the deck of cards while playing bridge.\n",
    "\n",
    "Merge sort :\n",
    "Merge sort follows divide and conquer approach in which, the list is first divided into the sets of equal elements and then each half of the list is sorted by using merge sort. The sorted list is combined again to form an elementary sorted array.\n",
    "\n",
    "Quick sort:\n",
    "\n",
    "Quick sort is the most optimized sort algorithms which performs sorting in O(n log n) comparisons. Like Merge sort, quick sort also work by using divide and conquer approach.\n",
    "\n",
    "\n",
    "Radix sort:\n",
    "\n",
    "In Radix sort, the sorting is done as we do sort the names according to their alphabetical order. It is the lenear sorting algorithm used for Inegers.\n",
    "\n",
    "Selection sort:\n",
    "\n",
    "Selection sort finds the smallest element in the array and place it on the first place on the list, then it finds the second smallest element in the array and place it on the second place. This process continues until all the elements are moved to their correct ordering. It carries running time O(n2) which is worst than insertion sort.\n",
    "\n",
    "Shell sort :\n",
    "\n",
    "Shell sort is the generalization of insertion sort which overcomes the drawbacks of insertion sort by comparing elements separated by a gap of several positions\n"
   ]
  },
  {
   "cell_type": "code",
   "execution_count": null,
   "id": "89701756",
   "metadata": {},
   "outputs": [],
   "source": [
    "#why are stacks useful? python"
   ]
  },
  {
   "cell_type": "code",
   "execution_count": null,
   "id": "36ce3b81",
   "metadata": {},
   "outputs": [],
   "source": [
    "It is the same way memory is allocated in this data structure. \n",
    "It stores the data elements in a similar fashion as a bunch of plates are stored one above another in the kitchen.\n",
    "So stack data strcuture allows operations at one end wich can be called top of the stack."
   ]
  },
  {
   "cell_type": "code",
   "execution_count": null,
   "id": "81c7c9a0",
   "metadata": {},
   "outputs": [],
   "source": [
    "#What is Stack and Queue?"
   ]
  },
  {
   "cell_type": "code",
   "execution_count": null,
   "id": "c462f1b7",
   "metadata": {},
   "outputs": [],
   "source": [
    "A Stack is a linear data structure. \n",
    "In case of an array, random access is possible, \n",
    "i.e., any element of an array can be accessed at any time,\n",
    "whereas in a stack, the sequential access is only possible. \n",
    "It is a container that follows the insertion and deletion rule.\n",
    "It follows the principle LIFO (Last In First Out) in which the insertion and deletion take place from one side known as a top.\n",
    "In stack, we can insert the elements of a similar data type, i.e., the different data type elements cannot be inserted in the same stack. \n",
    "The two operations are performed in LIFO, i.e., push and pop operation.\n",
    "\n",
    "A Queue is a linear data structure. It is an ordered list that follows the principle FIFO (First In -First Out).\n",
    "A Queue is a structure that follows some restrictions on insertion and deletion. \n",
    "In the case of Queue, insertion is performed from one end, and that end is known as a rear end. \n",
    "The deletion is performed from another end, and that end is known as a front end. \n",
    "In Queue, the technical words for insertion and deletion are enqueue() and dequeue(), respectively \n",
    "whereas, in the case of the stack, the technical words for insertion and deletion are push() and pop(), respectively.\n",
    "Its structure contains two pointers front pointer and rear pointer,\n",
    "where the front pointer is a pointer that points to the element that was first added in the queue \n",
    "and the rear pointer that points to the element inserted last in the queue.\n",
    "\n"
   ]
  },
  {
   "cell_type": "code",
   "execution_count": null,
   "id": "e7204398",
   "metadata": {},
   "outputs": [],
   "source": [
    "#Mention the types of Queue?"
   ]
  },
  {
   "cell_type": "code",
   "execution_count": null,
   "id": "effa31b6",
   "metadata": {},
   "outputs": [],
   "source": [
    "A queue is a useful data structure in programming. It is similar to the ticket queue outside a cinema hall, where the first person entering the queue is the first person who gets the ticket.\n",
    "\n",
    "There are four different types of queues:\n",
    "\n",
    "Simple Queue\n",
    "Circular Queue\n",
    "Priority Queue\n",
    "Double Ended Queue"
   ]
  },
  {
   "cell_type": "code",
   "execution_count": null,
   "id": "d2c8a909",
   "metadata": {},
   "outputs": [],
   "source": [
    "#Why and when should I use Stack or Queue data structures instead of Arrays/Lists?  "
   ]
  },
  {
   "cell_type": "code",
   "execution_count": null,
   "id": "c9fd3997",
   "metadata": {},
   "outputs": [],
   "source": [
    "Array and list structures provide a description of how the data is stored, along with guarantees of the complexity of fundamental operations on the structures. \n",
    "Stacks and queues give a high level description of how elements are inserted or removed.\n"
   ]
  },
  {
   "cell_type": "code",
   "execution_count": null,
   "id": "d1d0beb5",
   "metadata": {},
   "outputs": [],
   "source": [
    "#Explain why Stack is a recursive data structure "
   ]
  },
  {
   "cell_type": "code",
   "execution_count": null,
   "id": "d8b0e2cc",
   "metadata": {},
   "outputs": [],
   "source": [
    "Stack is a recursive data structure, so it's:\n",
    "a stack is either empty or\n",
    "it consists of a top and the rest which is a stack by itself;\n",
    "The nature of nested function calling and returning is the same as that of a stack. \n",
    "The one that is called at top level(or the earliest) is returned the last. \n",
    "The later a function is called in the nested hierarchy, the earliest it returns. \n",
    "So, the start/ return of a function call turns out analogous to push/ pop operations of a stack \n",
    "and thus a stack can be used to mimic this functionality.\n",
    "\n",
    "\n"
   ]
  }
 ],
 "metadata": {
  "kernelspec": {
   "display_name": "Python 3",
   "language": "python",
   "name": "python3"
  },
  "language_info": {
   "codemirror_mode": {
    "name": "ipython",
    "version": 3
   },
   "file_extension": ".py",
   "mimetype": "text/x-python",
   "name": "python",
   "nbconvert_exporter": "python",
   "pygments_lexer": "ipython3",
   "version": "3.7.4"
  }
 },
 "nbformat": 4,
 "nbformat_minor": 5
}
