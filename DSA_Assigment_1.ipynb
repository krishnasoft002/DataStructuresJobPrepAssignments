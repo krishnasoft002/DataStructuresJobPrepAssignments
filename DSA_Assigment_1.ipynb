{
 "cells": [
  {
   "cell_type": "code",
   "execution_count": null,
   "id": "d5cea7d2",
   "metadata": {},
   "outputs": [],
   "source": [
    "#Explain the built-in data structure in Python."
   ]
  },
  {
   "cell_type": "code",
   "execution_count": null,
   "id": "80ac7eb1",
   "metadata": {},
   "outputs": [],
   "source": [
    "Python has four basic inbuilt data structures namely Lists, Dictionary, Tuple and Set. These almost cover 80% of the our real world data structures. \n",
    "\n",
    "Lists: Lists in Python are one of the most versatile collection object types available. \n",
    "The other two types are dictionaries and tuples, but they are really more like variations of lists.\n",
    "\n",
    "\n",
    "Dictionary: In python, dictionary is similar to hash or maps in other languages. It consists of key value pairs. The value can be accessed by unique key in the dictionary. \n",
    "\n",
    "Keys are unique & immutable objects.\n",
    "Syntax: \n",
    "\n",
    "dictionary = {\"key name\": value}\n",
    "\n",
    "Tuple : Python tuples work exactly like Python lists except they are immutable, i.e. they can’t be \n",
    "changed in place. They are normally written inside parentheses to distinguish them from lists (which use square brackets), but as you’ll see, parentheses aren’t always necessary. Since tuples are immutable, their length is fixed. To grow or shrink a tuple, a new tuple must be created. \n",
    "\n",
    "Here’s a list of commonly used tuples:\n",
    "\n",
    "() An empty tuple\n",
    "t1 = (0, ) A one-item tuple (not an expression)\n",
    "t2 = (0, 1, 2, 3) A four-item tuple\n",
    "t3 = 0, 1, 2, 3 Another four-item tuple (same as prior line, just minus the parenthesis)\n",
    "t3 = (‘abc’, (‘def’, ‘ghi’)) Nested tuples\n",
    "t1[n], t3[n][j] Index\n",
    "t1[i:j], Slice\n",
    "len(tl) Length\n",
    "\n",
    "# Python program to illustrate\n",
    "# tuple\n",
    "tup = (1, \"a\", \"string\", 1+2)\n",
    "print (tup)\n",
    "print (tup[1])\n",
    "Output: \n",
    "\n",
    "(1, 'a', 'string', 3)\n",
    "a\n",
    "Detailed article on Tuples in Python\n",
    "\n",
    "Sets: Unordered collection of unique objects. \n",
    "\n",
    "Set operations such as union (|) , intersection(&), difference(-) can be applied on a set.\n",
    "Frozen Sets are immutable i.e once created further data can’t be added to them\n",
    "{} are used to represent a set.Objects placed inside these brackets would be treated as a set.\n",
    "\n",
    "# Python program to demonstrate working of\n",
    "# Set in Python\n",
    " \n",
    "# Creating two sets\n",
    "set1 = set()\n",
    "set2 = set()\n",
    " \n",
    "# Adding elements to set1\n",
    "for i in range(1, 6):\n",
    "    set1.add(i)\n",
    " \n",
    "# Adding elements to set2\n",
    "for i in range(3, 8):\n",
    "    set2.add(i)\n",
    " \n",
    "print(\"Set1 = \", set1)\n",
    "print(\"Set2 = \", set2)\n",
    "print(\"\\n\")"
   ]
  },
  {
   "cell_type": "code",
   "execution_count": null,
   "id": "6821c4eb",
   "metadata": {},
   "outputs": [],
   "source": [
    "#Explain the user data structure in Python."
   ]
  },
  {
   "cell_type": "code",
   "execution_count": null,
   "id": "3fb4d84d",
   "metadata": {},
   "outputs": [],
   "source": [
    "User-defined data structures: Data structures that aren’t supported by python but can be programmed to reflect the same functionality using concepts supported by python are user-defined data structures. There are many data structure that can be implemented this way:\n",
    "Linked list\n",
    "Stack\n",
    "Queue\n",
    "Tree\n",
    "Graph\n",
    "Hashmap\n",
    "\n",
    "Linked list\n",
    "A linked list is a linear data structure, in which the elements are not stored at contiguous memory locations. \n",
    "\n",
    "Stack\n",
    "A stack is a linear structure that allows data to be inserted and removed from the same end thus follows a last in first out(LIFO) system. Insertion and deletion is known as push() and pop() respectively.\n",
    "\n",
    "A queue is a linear structure that allows insertion of elements from one end and deletion from the other. Thus it follows, First In First Out(FIFO) methodology. The end which allows deletion is known as the front of the queue and the other end is known as the rear end of the queue. \n",
    "\n",
    "Tree\n",
    "A tree is a non-linear but hierarchical data structure. The topmost element is known as the root of the tree since the tree is believed to start from the root. The elements at the end of the tree are known as its leaves. Trees are appropriate for storing data that aren’t linearly connected to each other but form a hierarchy. \n",
    "\n",
    "Graph\n",
    "A Graph is a non-linear data structure consisting of nodes and edges. The nodes are sometimes also referred to as vertices and the edges are lines or arcs that connect any two nodes in the graph.  A Graph consists of a finite set of vertices(or nodes) and set of Edges which connect a pair of nodes.\n",
    "\n",
    "Hashmap\n",
    "Hash maps are indexed data structures. A hash map makes use of a hash function to compute an index with a key into an array of buckets or slots. Its value is mapped to the bucket with the corresponding index. The key is unique and immutable. In Python, dictionaries are examples of hash maps.\n",
    "\n"
   ]
  },
  {
   "cell_type": "code",
   "execution_count": null,
   "id": "8c4fed70",
   "metadata": {},
   "outputs": [],
   "source": [
    "#Explain the steps to write an algorithm"
   ]
  },
  {
   "cell_type": "code",
   "execution_count": null,
   "id": "3418db74",
   "metadata": {},
   "outputs": [],
   "source": [
    "The following are the steps to write an algorithm \n",
    "\n",
    "1.Determine the outcome of your code.\n",
    " What is the specific problem you want to solve or the task you want it to accomplish? Once you have a solid idea of what you're aiming to accomplish, you can determine the steps it will take to get there.\n",
    "\n",
    "2.Decide on a starting point.\n",
    " Finding your starting and ending point are crucial to listing the steps of the process. To determine a starting point, determine the answers to these questions:[1]\n",
    "What data/inputs are available?\n",
    "Where is that data located?\n",
    "What formulas are applicable to the issue at hand?\n",
    "What are the rules to working with the available data?\n",
    "How do the data values relate to each other?\n",
    "\n",
    "3.Find the ending point of the algorithm. \n",
    "As with the starting point, you can find the end point of your algorithm by focusing on these questions:\n",
    "What facts will we learn from the process?\n",
    "What changes from the start to the end?\n",
    "What will be added or no longer exist?\n",
    "\n",
    "\n",
    "4.List the steps from start to finish. \n",
    "Start with broad steps. To use a real-world example, let's say your goal is to have lasagna for dinner. You've determined that the starting point is to find a recipe, and that the end result is that you'll have a lasagna fully cooked and ready to eat by 7 PM. Your steps may look something like this:\n",
    "Search for a recipe online.\n",
    "Look for the ingredients you already have in the kitchen.\n",
    "Make a list of ingredients you'll need from the store.\n",
    "Buy the missing ingredients.\n",
    "Return home.\n",
    "Prepare the lasagna.\n",
    "Remove the lasagna from the oven.\n",
    "\n",
    "\n",
    "\n",
    "5.Determine how you will accomplish each step. \n",
    "Now that you have a step-by-step outline, it's time to think about how you might code each step. \n",
    "\n",
    "6. Review the algorithm. \n",
    "Now that you've written your algorithm, it's time to evaluate the process. Your algorithm is designed to accomplish something specific, and you'll need it to start writing your program. \n"
   ]
  },
  {
   "cell_type": "code",
   "execution_count": null,
   "id": "83efdfaa",
   "metadata": {},
   "outputs": [],
   "source": [
    "#Mention the elements for a good algorithm."
   ]
  },
  {
   "cell_type": "code",
   "execution_count": null,
   "id": "5eaa95ac",
   "metadata": {},
   "outputs": [],
   "source": [
    "The elements of an algorithm are sequence, selection, and iteration."
   ]
  },
  {
   "cell_type": "code",
   "execution_count": null,
   "id": "2a2e128b",
   "metadata": {},
   "outputs": [],
   "source": [
    "#Explain the Tree traversal technique."
   ]
  },
  {
   "cell_type": "code",
   "execution_count": null,
   "id": "51c927e9",
   "metadata": {},
   "outputs": [],
   "source": [
    "Tree traversal is the process of visiting each node in the tree exactly once.\n",
    "Visiting each node in a graph should be done in a systematic manner. \n",
    "If search result in a visit to all the vertices, it is called a traversal. \n",
    "There are basically three traversal techniques for a binary tree that are\n",
    "\n",
    "1.Preorder traversal\n",
    "2.Inorder traversal\n",
    "3.Postorder traversal\n"
   ]
  },
  {
   "cell_type": "code",
   "execution_count": null,
   "id": "8df3cb25",
   "metadata": {},
   "outputs": [],
   "source": [
    "#Explain the difference between inorder and postorder tree traversal?"
   ]
  },
  {
   "cell_type": "code",
   "execution_count": null,
   "id": "efbcd374",
   "metadata": {},
   "outputs": [],
   "source": [
    "Inorder traversal traces the tree from leftmost node then its root node and then the right node of the tree.\n",
    "Pre-order traversal : root -> left node -> right node.\n",
    "Post-order traversal : left node -> right node -> root node.\n"
   ]
  }
 ],
 "metadata": {
  "kernelspec": {
   "display_name": "Python 3",
   "language": "python",
   "name": "python3"
  },
  "language_info": {
   "codemirror_mode": {
    "name": "ipython",
    "version": 3
   },
   "file_extension": ".py",
   "mimetype": "text/x-python",
   "name": "python",
   "nbconvert_exporter": "python",
   "pygments_lexer": "ipython3",
   "version": "3.7.4"
  }
 },
 "nbformat": 4,
 "nbformat_minor": 5
}
